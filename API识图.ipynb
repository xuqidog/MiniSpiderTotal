{
 "cells": [
  {
   "cell_type": "code",
   "execution_count": 39,
   "metadata": {},
   "outputs": [
    {
     "data": {
      "text/plain": [
       "'\\n动物识别\\n'"
      ]
     },
     "execution_count": 39,
     "metadata": {},
     "output_type": "execute_result"
    }
   ],
   "source": [
    "# encoding:utf-8\n",
    "import base64\n",
    "import urllib\n",
    "import urllib.request\n",
    "\n",
    "'''\n",
    "动物识别\n",
    "https://ai.baidu.com/docs#/ImageClassify-API/f6d33f0a\n",
    "'''"
   ]
  },
  {
   "cell_type": "code",
   "execution_count": 48,
   "metadata": {},
   "outputs": [
    {
     "name": "stdout",
     "output_type": "stream",
     "text": [
      "{\"log_id\": 3623786068049988053, \"result\": [{\"score\": \"0.363007\", \"name\": \"灯鱼\", \"baike_info\": {\"baike_url\": \"http://baike.baidu.com/item/%E7%81%AF%E9%B1%BC/838530\", \"image_url\": \"http://imgsrc.baidu.com/baike/pic/item/d53f8794a4c27d1e0168f1271bd5ad6edcc43883.jpg\", \"description\": \"灯鱼最初为一类原产于南美洲亚马逊河流域的小型灯科鱼类，主要为小型加拉辛鱼，近年由于模拟“热带雨林”的水草造景缸而从西欧的荷兰一直热到大陆，作为水草缸和水陆缸的重要主角。\"}}, {\"score\": \"0.326496\", \"name\": \"头尾灯鱼\"}]}\n"
     ]
    }
   ],
   "source": [
    "\n",
    "request_url = \"https://aip.baidubce.com/rest/2.0/image-classify/v1/animal\"\n",
    "imgPath = \"/Users/xuss/Documents/Python/MiniSpiderTotal/yuimage/头尾灯鱼.png\"\n",
    "access_token = \"24.fc2ab8331f087cfae250627e7ba87253.2592000.1574231352.282335-17580149\"\n",
    "\n",
    "# 二进制方式打开图片文件\n",
    "f = open(imgPath, 'rb')\n",
    "img = base64.b64encode(f.read())\n",
    "\n",
    "params = {\"baike_num\":1,\"image\":img,\"top_num\":2}\n",
    "params = urllib.parse.urlencode(params).encode(\"utf-8\")\n",
    "request_url = request_url + \"?access_token=\" + access_token\n",
    "\n",
    "request = urllib.request.Request(url=request_url, data=params)\n",
    "request.add_header('Content-Type', 'application/x-www-form-urlencoded')\n",
    "response = urllib.request.urlopen(request)\n",
    "content = response.read().decode(\"utf-8\")\n",
    "if content:\n",
    "    print (content)\n",
    "\n"
   ]
  },
  {
   "cell_type": "code",
   "execution_count": 30,
   "metadata": {},
   "outputs": [
    {
     "name": "stdout",
     "output_type": "stream",
     "text": [
      "{\"log_id\": 3786209786330194549, \"result\": [{\"score\": \"0.359944\", \"name\": \"遮目鱼\"}, {\"score\": \"0.25256\", \"name\": \"海鲢\"}, {\"score\": \"0.0617003\", \"name\": \"大海鲢\"}, {\"score\": \"0.0410383\", \"name\": \"大眼海鲢\"}, {\"score\": \"0.016157\", \"name\": \"黄尾鱼\"}, {\"score\": \"0.0148272\", \"name\": \"美国鲥鱼\"}]}\n"
     ]
    }
   ],
   "source": [
    "request_url = \"https://aip.baidubce.com/rest/2.0/image-classify/v1/animal\"\n",
    "imgPath = \"/Users/xuss/Documents/Python/MiniSpiderTotal/yuimage/遮目鱼.png\"\n",
    "access_token = \"24.fc2ab8331f087cfae250627e7ba87253.2592000.1574231352.282335-17580149\"\n",
    "\n",
    "# 二进制方式打开图片文件\n",
    "f = open(imgPath, 'rb')\n",
    "img = base64.b64encode(f.read())\n",
    "\n",
    "params = {\"image\":img}\n",
    "params = urllib.parse.urlencode(params).encode(\"utf-8\")\n",
    "request_url = request_url + \"?access_token=\" + access_token\n",
    "\n",
    "request = urllib.request.Request(url=request_url, data=params)\n",
    "request.add_header('Content-Type', 'application/x-www-form-urlencoded')\n",
    "response = urllib.request.urlopen(request)\n",
    "content = response.read().decode(\"utf-8\")\n",
    "if content:\n",
    "    print (content)\n",
    "\n"
   ]
  },
  {
   "cell_type": "code",
   "execution_count": null,
   "metadata": {},
   "outputs": [],
   "source": []
  }
 ],
 "metadata": {
  "kernelspec": {
   "display_name": "Python 3",
   "language": "python",
   "name": "python3"
  },
  "language_info": {
   "codemirror_mode": {
    "name": "ipython",
    "version": 3
   },
   "file_extension": ".py",
   "mimetype": "text/x-python",
   "name": "python",
   "nbconvert_exporter": "python",
   "pygments_lexer": "ipython3",
   "version": "3.7.3"
  }
 },
 "nbformat": 4,
 "nbformat_minor": 2
}
