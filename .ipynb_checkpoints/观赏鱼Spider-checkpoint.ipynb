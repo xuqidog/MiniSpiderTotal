{
 "cells": [
  {
   "cell_type": "code",
   "execution_count": null,
   "metadata": {},
   "outputs": [],
   "source": [
    "# 小爬虫，百度百科，根据鱼的名字获取简介信息"
   ]
  },
  {
   "cell_type": "code",
   "execution_count": 132,
   "metadata": {},
   "outputs": [
    {
     "name": "stdout",
     "output_type": "stream",
     "text": [
      "头尾灯鱼\n",
      "犁头鳐\n",
      "遮目鱼\n",
      "--------无搜索结果------鰕虎鱼\n",
      "无搜索结果:鰕虎鱼,\n"
     ]
    }
   ],
   "source": [
    "from bs4 import BeautifulSoup\n",
    "import requests\n",
    "import re\n",
    "\n",
    "headers={\n",
    "    'user-agent':'Mozilla/5.0'\n",
    "}\n",
    "hostUrl = 'https://baike.baidu.com/item/'\n",
    "# itemStr1 = '小蜜蜂,小丑鱼,蓝魔鬼,射水鱼,绿河豚,石美人,三点白,草莓鱼,白鹦哥,角碟,红苹果美人,透红小丑鱼,斑节海龙,马达加斯加彩虹,红双带小丑鱼,黑豹小丑鱼,黑双带小丑鱼,'\n",
    "# itemStr2 = '黄写锦鲤,五花龙晴,松叶锦鲤,浅黄锦鲤,红白兰寿,丹顶锦鲤,德国锦鲤,荧鳞蝶尾鱼,别甲锦鲤,红蝶尾,望天鱼,红白鎏金,绿巨人,成吉思汗,蓝宝石鱼,孔雀鱼,'\n",
    "# itemStr3 = '红玫瑰,一眉道人,虎皮鱼,银鲨,鹅头红,彩虹鲨,黑宝石鱼,红尾黑鲨,墨龙晴,茶鲤,凤尾龙晴,白写锦鲤,乌鲤,黄鲤,红顶虎头,十二红龙晴,金银鳞锦鲤,绯写锦鲤,'\n",
    "# itemStr4 = '红小丑鱼,印度红小丑,印度洋银线小丑,红边蝙蝠,咖啡小丑鱼,蓝线雀,黄尾蓝魔鬼,澳洲三间火箭,夏威夷吊,麒麟神仙,土耳其神仙,蓝宝新娘神仙,太平洋双带小丑,短翅蝙蝠,三带小丑,尖嘴青龙鱼,红横带龙,印度金圈吊'\n",
    "# itemStr = itemStr1 + itemStr2 + itemStr3 + itemStr4\n",
    "\n",
    "# itemStr  = '深海鮟鱇,宽咽鱼,大马哈鱼,金枪鱼,圆鳍鱼,灯笼鱼,犁头鳐,遮目鱼,鰕虎鱼,鳓鱼,雷达鱼,多宝鱼,老虎斑,刺尾鱼,神仙鱼,剑鱼,沙丁鱼,巨石斑鱼,东星斑,潜鱼,三文鱼,电鳗,青斑,珊瑚鱼,豹纹鲨,马鲛鱼,加力鱼,马加鱼,粉斑,带鱼,黄花鱼,鳕鱼,鲨鱼,鲸鱼,海鲈,秋刀鱼,海鳗,鲅鱼,鲳鱼,鲮鱼,凤尾鱼,马面鱼,'\n",
    "\n",
    "itemStr  = '灯笼鱼,犁头鳐,遮目鱼,鰕虎鱼'\n",
    "\n",
    "items = itemStr.split(\",\")\n",
    "json = ''\n",
    "noSearchStr = ''\n",
    "for item in items:\n",
    "    url = hostUrl + item\n",
    "    res = requests.get(url, headers=headers)\n",
    "    res.encoding = 'UTF-8' \n",
    "    demo =res.text\n",
    "    soup = BeautifulSoup(demo, \"html.parser\")\n",
    "    title = soup.find('dd', attrs={'basicInfo-item value'})\n",
    "    if title is None:\n",
    "        print('--------无搜索结果------' + item)\n",
    "        noSearchStr = noSearchStr + item + ','\n",
    "        break\n",
    "    try:\n",
    "        title = re.sub(\"[0-9\\[\\]\\\\n]\", \"\", title.get_text().strip())\n",
    "        content = soup.find('div', attrs={'lemma-summary'}).get_text().strip()\n",
    "        content = re.sub(\"[0-9\\[\\]\\\\n]\", \"\", content)\n",
    "        json = json + '\\\"' + title + '\\\"'  + ':' + '\\\"' + content + '\\\"' + ',' \n",
    "        print(title)\n",
    "    except AttributeError:\n",
    "        print('')\n",
    "        \n",
    "print('无搜索结果:' + noSearchStr)\n"
   ]
  },
  {
   "cell_type": "code",
   "execution_count": null,
   "metadata": {},
   "outputs": [],
   "source": [
    "print(json)"
   ]
  },
  {
   "cell_type": "code",
   "execution_count": null,
   "metadata": {},
   "outputs": [],
   "source": [
    "# 保存图片"
   ]
  },
  {
   "cell_type": "code",
   "execution_count": 1,
   "metadata": {},
   "outputs": [
    {
     "name": "stdout",
     "output_type": "stream",
     "text": [
      "不纯在\n",
      "存在\n"
     ]
    },
    {
     "ename": "FileNotFoundError",
     "evalue": "[Errno 2] No such file or directory: 'D:/imagss'",
     "output_type": "error",
     "traceback": [
      "\u001b[0;31m---------------------------------------------------------------------------\u001b[0m",
      "\u001b[0;31mFileNotFoundError\u001b[0m                         Traceback (most recent call last)",
      "\u001b[0;32m<ipython-input-1-68082ee4a545>\u001b[0m in \u001b[0;36m<module>\u001b[0;34m\u001b[0m\n\u001b[1;32m      9\u001b[0m  \u001b[0;32melse\u001b[0m\u001b[0;34m:\u001b[0m\u001b[0;34m\u001b[0m\u001b[0;34m\u001b[0m\u001b[0m\n\u001b[1;32m     10\u001b[0m   \u001b[0mprint\u001b[0m\u001b[0;34m(\u001b[0m\u001b[0;34m\"存在\"\u001b[0m\u001b[0;34m)\u001b[0m\u001b[0;34m\u001b[0m\u001b[0;34m\u001b[0m\u001b[0m\n\u001b[0;32m---> 11\u001b[0;31m   \u001b[0mos\u001b[0m\u001b[0;34m.\u001b[0m\u001b[0mchmod\u001b[0m\u001b[0;34m(\u001b[0m\u001b[0;34m\"D:/imagss\"\u001b[0m\u001b[0;34m,\u001b[0m\u001b[0;36m777\u001b[0m\u001b[0;34m)\u001b[0m\u001b[0;34m\u001b[0m\u001b[0;34m\u001b[0m\u001b[0m\n\u001b[0m\u001b[1;32m     12\u001b[0m \u001b[0;34m\u001b[0m\u001b[0m\n\u001b[1;32m     13\u001b[0m \u001b[0;34m\u001b[0m\u001b[0m\n",
      "\u001b[0;31mFileNotFoundError\u001b[0m: [Errno 2] No such file or directory: 'D:/imagss'"
     ]
    }
   ],
   "source": [
    "import os,stat\n",
    "import urllib.request\n",
    "  \n",
    "for i in range(1,3):\n",
    " if not os.path.exists(\"./rym\"):\n",
    "  print(\"不纯在\")\n",
    "  os.makedirs(\"./rym\")\n",
    "  \n",
    " else:\n",
    "  print(\"存在\")\n",
    "  os.chmod(\"D:/imagss\",777)\n",
    "  \n",
    "  \n",
    "  with urllib.request.urlopen(\"https://timgsa.baidu.com/timg?image&quality=80&size=b9999_10000&sec=1516371301&di=d99af0828b\"\n",
    "         \"b301fea27c2149a7070d44&imgtype=jpg&er=1&src=http%3A%2F%2Fupload.qianhuaweb.com%2F2017%2F0718%\"\n",
    "         \"2F1500369506683.jpg\", timeout=30) as response, open(\"./rym/lyj.png\"\n",
    "    , 'wb') as f_save:\n",
    "   f_save.write(response.read())\n",
    "   f_save.flush()\n",
    "   f_save.close()\n",
    "   print(\"成功\")"
   ]
  },
  {
   "cell_type": "code",
   "execution_count": null,
   "metadata": {},
   "outputs": [],
   "source": []
  }
 ],
 "metadata": {
  "kernelspec": {
   "display_name": "Python 3",
   "language": "python",
   "name": "python3"
  },
  "language_info": {
   "codemirror_mode": {
    "name": "ipython",
    "version": 3
   },
   "file_extension": ".py",
   "mimetype": "text/x-python",
   "name": "python",
   "nbconvert_exporter": "python",
   "pygments_lexer": "ipython3",
   "version": "3.7.3"
  }
 },
 "nbformat": 4,
 "nbformat_minor": 2
}
